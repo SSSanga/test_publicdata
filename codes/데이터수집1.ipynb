{
 "cells": [
  {
   "cell_type": "markdown",
   "id": "7d1fe7ad-2c79-4f92-9d9f-fb4b1c67e30f",
   "metadata": {},
   "source": [
    "## 슈퍼마켓의 판매데이터를 전처리 "
   ]
  },
  {
   "cell_type": "markdown",
   "id": "2903a704-4dad-4ae2-abf2-5bc6c7c7dd43",
   "metadata": {},
   "source": [
    "### 1.슈퍼마켓의 판매데이터를 전처리"
   ]
  },
  {
   "cell_type": "code",
   "execution_count": 1,
   "id": "6df09326-858b-492d-bdc6-f51965b66128",
   "metadata": {},
   "outputs": [],
   "source": [
    "import pandas as pd"
   ]
  },
  {
   "cell_type": "code",
   "execution_count": 2,
   "id": "131236a3-5046-46ed-aaf2-2e18b0c57d40",
   "metadata": {},
   "outputs": [],
   "source": [
    "data1 = pd.read_csv(\"슈퍼마켓/판매내역.csv\", encoding=\"utf-8\")\n",
    "data2 = pd.read_csv(\"슈퍼마켓/공급자.csv\", encoding=\"utf-8\")\n",
    "data3 = pd.read_csv(\"슈퍼마켓/상품정보.csv\", encoding=\"cp949\", sep=\"|\")\n",
    "data4 = pd.read_csv(\"슈퍼마켓/소분류.csv\", encoding=\"cp949\")\n",
    "data5 = pd.read_csv(\"슈퍼마켓/중분류.csv\", encoding=\"cp949\")\n",
    "data6 = pd.read_csv(\"슈퍼마켓/대분류.csv\", encoding=\"cp949\")"
   ]
  },
  {
   "cell_type": "markdown",
   "id": "d7556777-6b09-4213-9fa0-5cb35dc5ce4d",
   "metadata": {},
   "source": [
    "## 결측치나 데이터 타입을 변경하여 데이터 통합작업준비"
   ]
  },
  {
   "cell_type": "markdown",
   "id": "2f4fc902-27e0-44e1-8790-8a909051907a",
   "metadata": {},
   "source": [
    "### 2.작업전 데이터 정비(결측치 보정, 데이터 타입 변경)"
   ]
  },
  {
   "cell_type": "code",
   "execution_count": 3,
   "id": "5c3ccfcf-5eff-41a9-8bf7-e94bf4286c24",
   "metadata": {},
   "outputs": [
    {
     "data": {
      "text/plain": [
       "상품코드          0\n",
       "상품명           4\n",
       "수량        20968\n",
       "분류1           4\n",
       "분류2           4\n",
       "등록일시,,        4\n",
       "dtype: int64"
      ]
     },
     "execution_count": 3,
     "metadata": {},
     "output_type": "execute_result"
    }
   ],
   "source": [
    "# 필드 조정 null 제거 및 필드명 변경\n",
    "data3.isnull().sum()"
   ]
  },
  {
   "cell_type": "code",
   "execution_count": 4,
   "id": "50dfc066-ad01-446d-b673-cd43fd380b2c",
   "metadata": {},
   "outputs": [],
   "source": [
    "data3 = data3.dropna(subset=[\"분류1\", \"분류2\"])"
   ]
  },
  {
   "cell_type": "code",
   "execution_count": 5,
   "id": "f56e2dc7-e91f-4c2d-9927-6b6f97dd4e57",
   "metadata": {},
   "outputs": [],
   "source": [
    "data3.rename(columns={\"분류1\":\"소분류코드\"}, inplace=True)\n",
    "data3.rename(columns={\"분류2\":'공급자코드'}, inplace=True)"
   ]
  },
  {
   "cell_type": "code",
   "execution_count": 6,
   "id": "71ca9070-930a-4593-b994-12520947777c",
   "metadata": {
    "tags": []
   },
   "outputs": [
    {
     "data": {
      "text/html": [
       "<div>\n",
       "<style scoped>\n",
       "    .dataframe tbody tr th:only-of-type {\n",
       "        vertical-align: middle;\n",
       "    }\n",
       "\n",
       "    .dataframe tbody tr th {\n",
       "        vertical-align: top;\n",
       "    }\n",
       "\n",
       "    .dataframe thead th {\n",
       "        text-align: right;\n",
       "    }\n",
       "</style>\n",
       "<table border=\"1\" class=\"dataframe\">\n",
       "  <thead>\n",
       "    <tr style=\"text-align: right;\">\n",
       "      <th></th>\n",
       "      <th>상품코드</th>\n",
       "      <th>상품명</th>\n",
       "      <th>수량</th>\n",
       "      <th>소분류코드</th>\n",
       "      <th>공급자코드</th>\n",
       "      <th>등록일시,,</th>\n",
       "    </tr>\n",
       "  </thead>\n",
       "  <tbody>\n",
       "    <tr>\n",
       "      <th>0</th>\n",
       "      <td>2100000626052</td>\n",
       "      <td>송염고은단치약130*3</td>\n",
       "      <td>NaN</td>\n",
       "      <td>20301.0</td>\n",
       "      <td>1042.0</td>\n",
       "      <td>2021-01-26 18:01:54,,</td>\n",
       "    </tr>\n",
       "    <tr>\n",
       "      <th>1</th>\n",
       "      <td>2100000626069</td>\n",
       "      <td>2080어린이딸기향80*2</td>\n",
       "      <td>3입</td>\n",
       "      <td>20101.0</td>\n",
       "      <td>6007.0</td>\n",
       "      <td>2021-01-26 18:01:54,,</td>\n",
       "    </tr>\n",
       "    <tr>\n",
       "      <th>2</th>\n",
       "      <td>2100000626076</td>\n",
       "      <td>LG토디앙황토특대/40p</td>\n",
       "      <td>40p</td>\n",
       "      <td>20402.0</td>\n",
       "      <td>1051.0</td>\n",
       "      <td>2021-01-26 18:01:54,,</td>\n",
       "    </tr>\n",
       "    <tr>\n",
       "      <th>3</th>\n",
       "      <td>2100000626083</td>\n",
       "      <td>참기름자반볶음번들</td>\n",
       "      <td>50g+50g</td>\n",
       "      <td>10301.0</td>\n",
       "      <td>9999.0</td>\n",
       "      <td>2021-01-26 18:01:54,,</td>\n",
       "    </tr>\n",
       "    <tr>\n",
       "      <th>4</th>\n",
       "      <td>2100000613007</td>\n",
       "      <td>할라페뇨슬라이스</td>\n",
       "      <td>540g</td>\n",
       "      <td>10903.0</td>\n",
       "      <td>9999.0</td>\n",
       "      <td>2021-01-26 18:01:54,,</td>\n",
       "    </tr>\n",
       "    <tr>\n",
       "      <th>...</th>\n",
       "      <td>...</td>\n",
       "      <td>...</td>\n",
       "      <td>...</td>\n",
       "      <td>...</td>\n",
       "      <td>...</td>\n",
       "      <td>...</td>\n",
       "    </tr>\n",
       "    <tr>\n",
       "      <th>34769</th>\n",
       "      <td>2100000111848</td>\n",
       "      <td>버/수퍼슬립레드보루</td>\n",
       "      <td>NaN</td>\n",
       "      <td>60102.0</td>\n",
       "      <td>7777.0</td>\n",
       "      <td>2021-01-26 18:01:54,,</td>\n",
       "    </tr>\n",
       "    <tr>\n",
       "      <th>34770</th>\n",
       "      <td>2100000111855</td>\n",
       "      <td>델)프/오렌지*2병</td>\n",
       "      <td>NaN</td>\n",
       "      <td>10201.0</td>\n",
       "      <td>5097.0</td>\n",
       "      <td>2021-01-26 18:01:54,,</td>\n",
       "    </tr>\n",
       "    <tr>\n",
       "      <th>34771</th>\n",
       "      <td>2100000106158</td>\n",
       "      <td>캡휴지걸이</td>\n",
       "      <td>NaN</td>\n",
       "      <td>20301.0</td>\n",
       "      <td>5014.0</td>\n",
       "      <td>2021-01-26 18:01:54,,</td>\n",
       "    </tr>\n",
       "    <tr>\n",
       "      <th>34772</th>\n",
       "      <td>2100000106165</td>\n",
       "      <td>커피향초중</td>\n",
       "      <td>NaN</td>\n",
       "      <td>20301.0</td>\n",
       "      <td>5014.0</td>\n",
       "      <td>2021-01-26 18:01:54,,</td>\n",
       "    </tr>\n",
       "    <tr>\n",
       "      <th>34773</th>\n",
       "      <td>2100000106172</td>\n",
       "      <td>컴배트젤30g</td>\n",
       "      <td>NaN</td>\n",
       "      <td>20405.0</td>\n",
       "      <td>5014.0</td>\n",
       "      <td>2021-01-26 18:01:54,,</td>\n",
       "    </tr>\n",
       "  </tbody>\n",
       "</table>\n",
       "<p>34770 rows × 6 columns</p>\n",
       "</div>"
      ],
      "text/plain": [
       "                상품코드             상품명          수량    소분류코드   공급자코드  \\\n",
       "0      2100000626052    송염고은단치약130*3         NaN  20301.0  1042.0   \n",
       "1      2100000626069  2080어린이딸기향80*2   3입         20101.0  6007.0   \n",
       "2      2100000626076   LG토디앙황토특대/40p  40p         20402.0  1051.0   \n",
       "3      2100000626083       참기름자반볶음번들  50g+50g     10301.0  9999.0   \n",
       "4      2100000613007        할라페뇨슬라이스  540g        10903.0  9999.0   \n",
       "...              ...             ...         ...      ...     ...   \n",
       "34769  2100000111848      버/수퍼슬립레드보루         NaN  60102.0  7777.0   \n",
       "34770  2100000111855      델)프/오렌지*2병         NaN  10201.0  5097.0   \n",
       "34771  2100000106158           캡휴지걸이         NaN  20301.0  5014.0   \n",
       "34772  2100000106165           커피향초중         NaN  20301.0  5014.0   \n",
       "34773  2100000106172         컴배트젤30g         NaN  20405.0  5014.0   \n",
       "\n",
       "                      등록일시,,  \n",
       "0      2021-01-26 18:01:54,,  \n",
       "1      2021-01-26 18:01:54,,  \n",
       "2      2021-01-26 18:01:54,,  \n",
       "3      2021-01-26 18:01:54,,  \n",
       "4      2021-01-26 18:01:54,,  \n",
       "...                      ...  \n",
       "34769  2021-01-26 18:01:54,,  \n",
       "34770  2021-01-26 18:01:54,,  \n",
       "34771  2021-01-26 18:01:54,,  \n",
       "34772  2021-01-26 18:01:54,,  \n",
       "34773  2021-01-26 18:01:54,,  \n",
       "\n",
       "[34770 rows x 6 columns]"
      ]
     },
     "execution_count": 6,
     "metadata": {},
     "output_type": "execute_result"
    }
   ],
   "source": [
    "data3"
   ]
  },
  {
   "cell_type": "code",
   "execution_count": 7,
   "id": "d81ef48d-106c-479b-adbe-b878b71508b5",
   "metadata": {},
   "outputs": [
    {
     "name": "stdout",
     "output_type": "stream",
     "text": [
      "<class 'pandas.core.frame.DataFrame'>\n",
      "Index: 34770 entries, 0 to 34773\n",
      "Data columns (total 6 columns):\n",
      " #   Column  Non-Null Count  Dtype  \n",
      "---  ------  --------------  -----  \n",
      " 0   상품코드    34770 non-null  object \n",
      " 1   상품명     34770 non-null  object \n",
      " 2   수량      13806 non-null  object \n",
      " 3   소분류코드   34770 non-null  float64\n",
      " 4   공급자코드   34770 non-null  float64\n",
      " 5   등록일시,,  34770 non-null  object \n",
      "dtypes: float64(2), object(4)\n",
      "memory usage: 1.9+ MB\n"
     ]
    }
   ],
   "source": [
    "data3.info()"
   ]
  },
  {
   "cell_type": "code",
   "execution_count": 8,
   "id": "7dc96403-e851-49df-8c3d-95f88fe7a725",
   "metadata": {},
   "outputs": [],
   "source": [
    "#필드타입변경 float64 → int64\n",
    "data3 = data3.astype({\"소분류코드\":\"int64\"})\n",
    "data3 = data3.astype({\"공급자코드\":\"int64\"})"
   ]
  },
  {
   "cell_type": "markdown",
   "id": "8be39b73-ede0-40a5-a612-ddb23d1c7cac",
   "metadata": {},
   "source": [
    "## 역정규화로 데이터를 하나로 합침"
   ]
  },
  {
   "cell_type": "markdown",
   "id": "e4ad6a58-3e0e-4159-8236-649bd178e2ad",
   "metadata": {},
   "source": [
    "### 3.데이터 조인 및 정리"
   ]
  },
  {
   "cell_type": "code",
   "execution_count": 9,
   "id": "4b6b0724-075a-4281-b4b5-23d8e4ae45c0",
   "metadata": {},
   "outputs": [],
   "source": [
    "#데이터의 조인(inner join) 대분류 및 중분류\n",
    "mdata = pd.merge(left = data5, right = data6, how=\"inner\", on=\"대분류코드\")"
   ]
  },
  {
   "cell_type": "code",
   "execution_count": 10,
   "id": "53ca066f-ccf5-4442-b954-d75812b46a1e",
   "metadata": {},
   "outputs": [],
   "source": [
    "#데이터의 조인(inner join) (대분류+중분류)+소분류\n",
    "classData = pd.merge(left=mdata, right=data4, how=\"inner\", on=\"중분류코드\")"
   ]
  },
  {
   "cell_type": "code",
   "execution_count": 11,
   "id": "ec3a6469-d1b0-4e32-865b-81002964c629",
   "metadata": {},
   "outputs": [],
   "source": [
    "#데이터의 조인(inner join) 분류코드 + 상품정보\n",
    "product = pd.merge(left=classData, right=data3, how=\"inner\", on=\"소분류코드\")"
   ]
  },
  {
   "cell_type": "code",
   "execution_count": 12,
   "id": "5183a8df-0aca-470f-8341-2271e91c7c56",
   "metadata": {},
   "outputs": [],
   "source": [
    "#시각화에 사용되지 않는 필드 삭제\n",
    "product = product.drop([\"등록일시\", \"대분류코드\", \"중분류코드\", \"소분류코드\", \"등록일시,,\", \"수량\"], axis=\"columns\")"
   ]
  },
  {
   "cell_type": "code",
   "execution_count": 13,
   "id": "384d5e14-fbd0-4065-b837-277b8018e08f",
   "metadata": {},
   "outputs": [],
   "source": [
    "#데이터의 조인 (inner join) 상품정보 + 공급자\n",
    "productDetail = pd.merge(left=product, right=data2, how=\"inner\", on=\"공급자코드\")"
   ]
  },
  {
   "cell_type": "code",
   "execution_count": 14,
   "id": "df151cb5-54da-4220-b48c-9a721edb2e8e",
   "metadata": {},
   "outputs": [],
   "source": [
    "#시각화에 사용되지 않는 필드 삭제\n",
    "productDetail = productDetail.drop([\"공급자코드\"], axis='columns')"
   ]
  },
  {
   "cell_type": "code",
   "execution_count": 15,
   "id": "ee9beadf-3b8e-4aa8-88c9-1a5ce62f4b0f",
   "metadata": {},
   "outputs": [
    {
     "data": {
      "text/html": [
       "<div>\n",
       "<style scoped>\n",
       "    .dataframe tbody tr th:only-of-type {\n",
       "        vertical-align: middle;\n",
       "    }\n",
       "\n",
       "    .dataframe tbody tr th {\n",
       "        vertical-align: top;\n",
       "    }\n",
       "\n",
       "    .dataframe thead th {\n",
       "        text-align: right;\n",
       "    }\n",
       "</style>\n",
       "<table border=\"1\" class=\"dataframe\">\n",
       "  <thead>\n",
       "    <tr style=\"text-align: right;\">\n",
       "      <th></th>\n",
       "      <th>중분류명</th>\n",
       "      <th>대분류명</th>\n",
       "      <th>소분류명</th>\n",
       "      <th>상품코드</th>\n",
       "      <th>상품명</th>\n",
       "      <th>공급자명</th>\n",
       "    </tr>\n",
       "  </thead>\n",
       "  <tbody>\n",
       "    <tr>\n",
       "      <th>0</th>\n",
       "      <td>제과제빵</td>\n",
       "      <td>식품</td>\n",
       "      <td>과자,껌,초코렛</td>\n",
       "      <td>2100000613182</td>\n",
       "      <td>꿀꽈배기90g*30입박스</td>\n",
       "      <td>농심라면</td>\n",
       "    </tr>\n",
       "    <tr>\n",
       "      <th>1</th>\n",
       "      <td>제과제빵</td>\n",
       "      <td>식품</td>\n",
       "      <td>과자,껌,초코렛</td>\n",
       "      <td>2100000631957</td>\n",
       "      <td>농심쌀새우깡1상자</td>\n",
       "      <td>농심라면</td>\n",
       "    </tr>\n",
       "    <tr>\n",
       "      <th>2</th>\n",
       "      <td>제과제빵</td>\n",
       "      <td>식품</td>\n",
       "      <td>과자,껌,초코렛</td>\n",
       "      <td>2100000631964</td>\n",
       "      <td>포스틱1상자</td>\n",
       "      <td>농심라면</td>\n",
       "    </tr>\n",
       "    <tr>\n",
       "      <th>3</th>\n",
       "      <td>제과제빵</td>\n",
       "      <td>식품</td>\n",
       "      <td>과자,껌,초코렛</td>\n",
       "      <td>2100000613984</td>\n",
       "      <td>자갈치90g*20입박스</td>\n",
       "      <td>농심라면</td>\n",
       "    </tr>\n",
       "    <tr>\n",
       "      <th>4</th>\n",
       "      <td>제과제빵</td>\n",
       "      <td>식품</td>\n",
       "      <td>과자,껌,초코렛</td>\n",
       "      <td>2100000594634</td>\n",
       "      <td>농심노래방새우깡박스</td>\n",
       "      <td>농심라면</td>\n",
       "    </tr>\n",
       "    <tr>\n",
       "      <th>...</th>\n",
       "      <td>...</td>\n",
       "      <td>...</td>\n",
       "      <td>...</td>\n",
       "      <td>...</td>\n",
       "      <td>...</td>\n",
       "      <td>...</td>\n",
       "    </tr>\n",
       "    <tr>\n",
       "      <th>5185</th>\n",
       "      <td>통조림(캔)</td>\n",
       "      <td>식품</td>\n",
       "      <td>캔종류</td>\n",
       "      <td>2100000568062</td>\n",
       "      <td>오)후레쉬참치</td>\n",
       "      <td>오뚜기</td>\n",
       "    </tr>\n",
       "    <tr>\n",
       "      <th>5186</th>\n",
       "      <td>통조림(캔)</td>\n",
       "      <td>식품</td>\n",
       "      <td>캔종류</td>\n",
       "      <td>2100000568079</td>\n",
       "      <td>오)오뚜기고등어</td>\n",
       "      <td>오뚜기</td>\n",
       "    </tr>\n",
       "    <tr>\n",
       "      <th>5187</th>\n",
       "      <td>기타식품</td>\n",
       "      <td>식품</td>\n",
       "      <td>기타식품류</td>\n",
       "      <td>2100000793396</td>\n",
       "      <td>오뚜기햄버그컵밥</td>\n",
       "      <td>오뚜기</td>\n",
       "    </tr>\n",
       "    <tr>\n",
       "      <th>5188</th>\n",
       "      <td>기타식품</td>\n",
       "      <td>식품</td>\n",
       "      <td>기타식품류</td>\n",
       "      <td>2100000821983</td>\n",
       "      <td>오뚜기참깨돈까스소스</td>\n",
       "      <td>오뚜기</td>\n",
       "    </tr>\n",
       "    <tr>\n",
       "      <th>5189</th>\n",
       "      <td>기타식품</td>\n",
       "      <td>식품</td>\n",
       "      <td>수입식품</td>\n",
       "      <td>2100000135660</td>\n",
       "      <td>타바스코핫소스</td>\n",
       "      <td>오뚜기</td>\n",
       "    </tr>\n",
       "  </tbody>\n",
       "</table>\n",
       "<p>5190 rows × 6 columns</p>\n",
       "</div>"
      ],
      "text/plain": [
       "        중분류명 대분류명      소분류명           상품코드            상품명   공급자명            \n",
       "0       제과제빵   식품  과자,껌,초코렛  2100000613182  꿀꽈배기90g*30입박스   농심라면            \n",
       "1       제과제빵   식품  과자,껌,초코렛  2100000631957      농심쌀새우깡1상자   농심라면            \n",
       "2       제과제빵   식품  과자,껌,초코렛  2100000631964         포스틱1상자   농심라면            \n",
       "3       제과제빵   식품  과자,껌,초코렛  2100000613984   자갈치90g*20입박스   농심라면            \n",
       "4       제과제빵   식품  과자,껌,초코렛  2100000594634     농심노래방새우깡박스   농심라면            \n",
       "...      ...  ...       ...            ...            ...                ...\n",
       "5185  통조림(캔)   식품       캔종류  2100000568062        오)후레쉬참치  오뚜기              \n",
       "5186  통조림(캔)   식품       캔종류  2100000568079       오)오뚜기고등어  오뚜기              \n",
       "5187    기타식품   식품     기타식품류  2100000793396       오뚜기햄버그컵밥  오뚜기              \n",
       "5188    기타식품   식품     기타식품류  2100000821983     오뚜기참깨돈까스소스  오뚜기              \n",
       "5189    기타식품   식품      수입식품  2100000135660        타바스코핫소스  오뚜기              \n",
       "\n",
       "[5190 rows x 6 columns]"
      ]
     },
     "execution_count": 15,
     "metadata": {},
     "output_type": "execute_result"
    }
   ],
   "source": [
    "productDetail"
   ]
  },
  {
   "cell_type": "code",
   "execution_count": 16,
   "id": "5e7e839d-1265-4e7c-b2ee-ff16d2a875e9",
   "metadata": {},
   "outputs": [
    {
     "name": "stdout",
     "output_type": "stream",
     "text": [
      "<class 'pandas.core.frame.DataFrame'>\n",
      "RangeIndex: 5190 entries, 0 to 5189\n",
      "Data columns (total 6 columns):\n",
      " #   Column            Non-Null Count  Dtype \n",
      "---  ------            --------------  ----- \n",
      " 0   중분류명              5190 non-null   object\n",
      " 1   대분류명              5190 non-null   object\n",
      " 2   소분류명              5190 non-null   object\n",
      " 3   상품코드              5190 non-null   object\n",
      " 4   상품명               5190 non-null   object\n",
      " 5   공급자명              5190 non-null   object\n",
      "dtypes: object(6)\n",
      "memory usage: 243.4+ KB\n"
     ]
    }
   ],
   "source": [
    "productDetail.info()"
   ]
  },
  {
   "cell_type": "code",
   "execution_count": 17,
   "id": "3af68622-4f91-4c40-99bd-c75b4fdd8a97",
   "metadata": {},
   "outputs": [],
   "source": [
    "#데이터 타입 변경\n",
    "data1 = data1.astype({\"판매일시\":\"datetime64[ns]\"})"
   ]
  },
  {
   "cell_type": "code",
   "execution_count": 18,
   "id": "4eec4e68-20bc-416b-928d-f54fba9a0985",
   "metadata": {},
   "outputs": [],
   "source": [
    "#데이터 타입 변경\n",
    "productDetail = productDetail.astype({\"상품코드\":\"int64\"})"
   ]
  },
  {
   "cell_type": "code",
   "execution_count": 19,
   "id": "a7a98bb3-f9e6-4333-babd-68242a1b9109",
   "metadata": {},
   "outputs": [
    {
     "name": "stdout",
     "output_type": "stream",
     "text": [
      "<class 'pandas.core.frame.DataFrame'>\n",
      "RangeIndex: 5190 entries, 0 to 5189\n",
      "Data columns (total 6 columns):\n",
      " #   Column            Non-Null Count  Dtype \n",
      "---  ------            --------------  ----- \n",
      " 0   중분류명              5190 non-null   object\n",
      " 1   대분류명              5190 non-null   object\n",
      " 2   소분류명              5190 non-null   object\n",
      " 3   상품코드              5190 non-null   int64 \n",
      " 4   상품명               5190 non-null   object\n",
      " 5   공급자명              5190 non-null   object\n",
      "dtypes: int64(1), object(5)\n",
      "memory usage: 243.4+ KB\n"
     ]
    }
   ],
   "source": [
    "productDetail.info()"
   ]
  },
  {
   "cell_type": "code",
   "execution_count": 20,
   "id": "cb5e58c4-170e-4ca6-8e66-5e177ab2d0b7",
   "metadata": {},
   "outputs": [],
   "source": [
    "#데이터의 조인(inner join) 상품데이터 + 판매데이터\n",
    "salesData = pd.merge(left=productDetail, right=data1, how=\"inner\", on=\"상품코드\")"
   ]
  },
  {
   "cell_type": "code",
   "execution_count": 21,
   "id": "691808ca-54a5-4eaf-9199-822d7dcad12f",
   "metadata": {},
   "outputs": [],
   "source": [
    "#시각화에 사용하지 않은 필드 삭제\n",
    "salesData = salesData.drop([\"상품코드\"], axis=\"columns\")"
   ]
  },
  {
   "cell_type": "code",
   "execution_count": 22,
   "id": "e1299bad-c273-4352-a370-f6b71c23ec4b",
   "metadata": {},
   "outputs": [],
   "source": [
    "#새로운 데이터 판매년도를 생성함\n",
    "salesData['판매년도'] = salesData[\"판매일시\"].dt.year"
   ]
  },
  {
   "cell_type": "code",
   "execution_count": 23,
   "id": "df306873-9cb6-46f7-a7d1-a4b9c17dc6f7",
   "metadata": {},
   "outputs": [
    {
     "name": "stdout",
     "output_type": "stream",
     "text": [
      "<class 'pandas.core.frame.DataFrame'>\n",
      "RangeIndex: 227009 entries, 0 to 227008\n",
      "Data columns (total 10 columns):\n",
      " #   Column            Non-Null Count   Dtype         \n",
      "---  ------            --------------   -----         \n",
      " 0   중분류명              227009 non-null  object        \n",
      " 1   대분류명              227009 non-null  object        \n",
      " 2   소분류명              227009 non-null  object        \n",
      " 3   상품명               227009 non-null  object        \n",
      " 4   공급자명              227009 non-null  object        \n",
      " 5   판매일시              227009 non-null  datetime64[ns]\n",
      " 6   판매횟수              227009 non-null  int64         \n",
      " 7   판매량               227009 non-null  int64         \n",
      " 8   판매금액              227009 non-null  int64         \n",
      " 9   판매년도              227009 non-null  int32         \n",
      "dtypes: datetime64[ns](1), int32(1), int64(3), object(5)\n",
      "memory usage: 16.5+ MB\n"
     ]
    }
   ],
   "source": [
    "salesData.info()"
   ]
  },
  {
   "cell_type": "code",
   "execution_count": 24,
   "id": "f2215060-513c-49cb-81f6-67501d5791b5",
   "metadata": {},
   "outputs": [],
   "source": [
    "salesData.to_csv(\"판매정보.csv\", encoding=\"utf-8-sig\", index_label='순서')"
   ]
  },
  {
   "cell_type": "code",
   "execution_count": null,
   "id": "8c2f0a82-d794-4875-b5a0-b364ef48f211",
   "metadata": {},
   "outputs": [],
   "source": []
  }
 ],
 "metadata": {
  "kernelspec": {
   "display_name": "Python 3 (ipykernel)",
   "language": "python",
   "name": "python3"
  },
  "language_info": {
   "codemirror_mode": {
    "name": "ipython",
    "version": 3
   },
   "file_extension": ".py",
   "mimetype": "text/x-python",
   "name": "python",
   "nbconvert_exporter": "python",
   "pygments_lexer": "ipython3",
   "version": "3.9.14"
  }
 },
 "nbformat": 4,
 "nbformat_minor": 5
}
